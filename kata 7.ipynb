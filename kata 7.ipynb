{
 "cells": [
  {
   "cell_type": "markdown",
   "metadata": {},
   "source": [
    "## Bucle \"While\""
   ]
  },
  {
   "cell_type": "code",
   "execution_count": 2,
   "metadata": {},
   "outputs": [
    {
     "name": "stdout",
     "output_type": "stream",
     "text": [
      "['mercurio', 'venus', 'jupiter', 'saturno', 'pluton']\n"
     ]
    }
   ],
   "source": [
    "new_planet= input(\"Escriba el nombre de un planeta\")\n",
    "planets=[ ]\n",
    "\n",
    "while new_planet.lower() != \"done\":\n",
    "    if new_planet:\n",
    "        planets.append(new_planet)\n",
    "    new_planet= input(\"Ingrese otro planeta o 'done' cuando termine\")\n",
    "print(planets)\n"
   ]
  },
  {
   "cell_type": "markdown",
   "metadata": {},
   "source": [
    "## Ciclo for\n"
   ]
  },
  {
   "cell_type": "code",
   "execution_count": 4,
   "metadata": {},
   "outputs": [
    {
     "name": "stdout",
     "output_type": "stream",
     "text": [
      "el usuario ingresó el planeta jupiter\n",
      "el usuario ingresó el planeta tierra\n",
      "el usuario ingresó el planeta marte\n"
     ]
    }
   ],
   "source": [
    "new_planet= input(\"Escriba el nombre de un planeta\")\n",
    "planets=[ ]\n",
    "\n",
    "while new_planet.lower() != \"done\":\n",
    "    if new_planet:\n",
    "        planets.append(new_planet)\n",
    "    new_planet= input(\"Ingrese otro planeta o 'done' cuando termine\")\n",
    "\n",
    "for planeta in planets:\n",
    "    print(\"el usuario ingresó el planeta\", planeta)\n"
   ]
  }
 ],
 "metadata": {
  "interpreter": {
   "hash": "cf960eb46d23ddff2d972984d3ba9e94ed12ea2863506cd2d61fa5eee592ec1f"
  },
  "kernelspec": {
   "display_name": "Python 3.10.2 64-bit",
   "language": "python",
   "name": "python3"
  },
  "language_info": {
   "codemirror_mode": {
    "name": "ipython",
    "version": 3
   },
   "file_extension": ".py",
   "mimetype": "text/x-python",
   "name": "python",
   "nbconvert_exporter": "python",
   "pygments_lexer": "ipython3",
   "version": "3.10.2"
  },
  "orig_nbformat": 4
 },
 "nbformat": 4,
 "nbformat_minor": 2
}
